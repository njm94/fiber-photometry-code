{
 "cells": [
  {
   "cell_type": "code",
   "execution_count": 3,
   "id": "3e78c36b",
   "metadata": {},
   "outputs": [
    {
     "name": "stderr",
     "output_type": "stream",
     "text": [
      "Y:\\nick\\fiber_photometry\\fiber-photometry-code\\helper.py:12: DeprecationWarning: Please use `curve_fit` from the `scipy.optimize` namespace, the `scipy.optimize.minpack` namespace is deprecated.\n",
      "  from scipy.optimize.minpack import curve_fit\n"
     ]
    }
   ],
   "source": [
    "import os\n",
    "import re\n",
    "import numpy as np\n",
    "import matplotlib.pyplot as plt\n",
    "import helper as h"
   ]
  },
  {
   "cell_type": "code",
   "execution_count": 35,
   "id": "e0b62a85",
   "metadata": {},
   "outputs": [],
   "source": [
    "# NOTE: SOME URINE TRIALS HAD BASELINE COLLECTED BEFORE URINE WAS ADDED\n",
    "# BELOW CHANGES NEED TO BE MADE BEFORE RUNNING THIS ANALYSIS\n",
    "#     1) Rename tracks file in such a way that it will be distinct from filenames suggested below\n",
    "#     2) Look through behavior video and find the time at which urine was added\n",
    "#     3) Load tracks for entire recording\n",
    "#     4) Split the tracks into two sections: \n",
    "#         - the baseline period which contains all tracks until the urine was added\n",
    "#         - the urine period, which starts from when urine was added and goes to the end of the experiment\n",
    "#     5) Save the baseline and urine tracks as separate files:\n",
    "#         {DATE}-{MOUSE_ID}-{CORNER_ID}-baseline.npy\n",
    "#         {DATE}-{MOUSE_ID}-{CORNER_ID}-urine.npy\n",
    "#     6) Update the code below so it runs as expected\n",
    "\n",
    "def process_data(list_of_paths):\n",
    "    tcorner = []\n",
    "    tcenter = []\n",
    "    \n",
    "    print('FILENAME\\t\\t\\t\\tTIME_IN_QUADRANT\\tTIME_IN_CENTER')\n",
    "    for folder in list_of_paths:\n",
    "        for filename in os.listdir(folder):\n",
    "            if filename.endswith('tracks.npy'):\n",
    "                tracks = np.load(folder + os.path.sep + filename)\n",
    "                try:\n",
    "                    loc = re.findall(r\"-[UL][LR]-\", filename)[0][1:-1]\n",
    "                    corner_time, center_time = h.quantify_corner_time(tracks[0,:], tracks[1,:], loc)\n",
    "                    print(filename, '\\t', round(corner_time,2), '%\\t\\t', round(center_time,2), '%')\n",
    "\n",
    "                    tcorner.append(corner_time)\n",
    "                    tcenter.append(center_time)\n",
    "                except:\n",
    "                    print(\"No location found for file: {}\".format(filename))\n",
    "    return tcorner, tcenter"
   ]
  },
  {
   "cell_type": "code",
   "execution_count": 50,
   "id": "70270012",
   "metadata": {
    "scrolled": true
   },
   "outputs": [
    {
     "name": "stdout",
     "output_type": "stream",
     "text": [
      "FILENAME\t\t\t\tTIME_IN_QUADRANT\tTIME_IN_CENTER\n",
      "20230315-CZ2-LL-urine_tracks.npy \t 10.55 %\t\t 7.28 %\n",
      "20230316-BAR3-UR-urine_tracks.npy \t 15.99 %\t\t 11.23 %\n",
      "20230320-FLR3-UR-urine_tracks.npy \t 25.36 %\t\t 11.91 %\n",
      "20230329-EI3-UL-urine_tracks.npy \t 8.37 %\t\t 42.51 %\n",
      "20230320-BFR3-LR-urine_tracks.npy \t 23.46 %\t\t 8.68 %\n",
      "20230316-CZ3-UL-urine_tracks.npy \t 11.96 %\t\t 13.99 %\n",
      "20230417-CXL2-LL-urine_tracks.npy \t 11.1 %\t\t 5.03 %\n",
      "No location found for file: 20230417-CXL2-highplace_tracks.npy\n",
      "20230414-CXL3-UL-urine_tracks.npy \t 25.02 %\t\t 4.08 %\n",
      "20230417-CXR2-UR-urine_tracks.npy \t 29.52 %\t\t 13.03 %\n",
      "FILENAME\t\t\t\tTIME_IN_QUADRANT\tTIME_IN_CENTER\n",
      "20230316-BAL2-LL-water_tracks.npy \t 15.73 %\t\t 6.65 %\n",
      "20230315-CZ1-UR-water_tracks.npy \t 32.42 %\t\t 12.15 %\n",
      "20230320-BFR2-UL-water_tracks.npy \t 26.9 %\t\t 9.82 %\n",
      "20230316-BAR2-LR-water_tracks.npy \t 37.57 %\t\t 14.7 %\n",
      "20230320-FLL2-LL-water_tracks.npy \t 43.58 %\t\t 19.87 %\n",
      "FILENAME\t\t\t\tTIME_IN_QUADRANT\tTIME_IN_CENTER\n",
      "20230329-A2-LR-vanilla_tracks.npy \t 22.19 %\t\t 8.76 %\n",
      "20230403-BX2-LL-vanilla_tracks.npy \t 20.46 %\t\t 8.81 %\n",
      "20230407-CXL3-LR-vanilla_tracks.npy \t 15.93 %\t\t 17.16 %\n",
      "FILENAME\t\t\t\tTIME_IN_QUADRANT\tTIME_IN_CENTER\n",
      "20230329-EI4-LL-banana_tracks.npy \t 16.83 %\t\t 7.58 %\n"
     ]
    }
   ],
   "source": [
    "urine_folders = [r'Y:\\nick\\behavior\\open_field\\avoidance\\bobcat\\urine\\outputs', \n",
    "                 r'Y:\\nick\\fiber_photometry\\vCA1\\Thy1\\CXL2\\20230417\\outputs',\n",
    "                r'Y:\\nick\\fiber_photometry\\vCA1\\Thy1\\CXL3\\20230414\\outputs',\n",
    "                r'Y:\\nick\\fiber_photometry\\vCA1\\Thy1\\CXR2\\20230417\\outputs']\n",
    "\n",
    "water_folders = [r'Y:\\nick\\behavior\\open_field\\avoidance\\bobcat\\water_control\\outputs']\n",
    "\n",
    "\n",
    "vanilla_folders = [r'Y:\\nick\\behavior\\open_field\\avoidance\\bobcat\\vanilla\\outputs',\n",
    "                  r'Y:\\nick\\fiber_photometry\\vCA1\\Thy1\\CXL3\\20230407\\outputs']\n",
    "\n",
    "banana_folders = [r'Y:\\nick\\behavior\\open_field\\avoidance\\bobcat\\banana\\outputs']\n",
    "\n",
    "bobcat_corner, bobcat_center = process_data(urine_folders)\n",
    "water_corner, water_center = process_data(water_folders)\n",
    "vanilla_corner, vanilla_center = process_data(vanilla_folders)\n",
    "banana_corner, banana_center = process_data(banana_folders)"
   ]
  },
  {
   "cell_type": "code",
   "execution_count": 54,
   "id": "ef06f72d",
   "metadata": {
    "scrolled": true
   },
   "outputs": [
    {
     "data": {
      "text/plain": [
       "([<matplotlib.axis.XTick at 0x8fe4cce9b0>,\n",
       "  <matplotlib.axis.XTick at 0x8fe4ccf820>,\n",
       "  <matplotlib.axis.XTick at 0x8fe4ce0c40>],\n",
       " [Text(1, 0, 'Bobcat'), Text(2, 0, 'Water'), Text(3, 0, 'Vanilla')])"
      ]
     },
     "execution_count": 54,
     "metadata": {},
     "output_type": "execute_result"
    },
    {
     "data": {
      "image/png": "[encoded data removed]",
      "text/plain": [
       "<Figure size 640x480 with 1 Axes>"
      ]
     },
     "metadata": {},
     "output_type": "display_data"
    }
   ],
   "source": [
    "plt.figure()\n",
    "plt.plot(np.ones((len(bobcat_corner),1)), bobcat_corner, 'ro')\n",
    "plt.plot(1+np.ones((len(water_corner),1)), water_corner, 'ko')\n",
    "plt.plot(2+np.ones((len(vanilla_corner), 1)), vanilla_corner, 'bo')\n",
    "plt.plot(2+np.ones((len(banana_corner), 1)), banana_corner, 'yo')\n",
    "plt.bar([1,2,3], [np.mean(bobcat_corner), np.mean(water_corner), np.mean(np.hstack((vanilla_corner, banana_corner)))])\n",
    "plt.axhline(y=25, color='k', linestyle='--')\n",
    "plt.axis([0.5, 3.5, 0, 100])\n",
    "plt.ylabel('Time in Quadrant (%)')\n",
    "plt.xticks([1, 2, 3], labels=['Bobcat', 'Water', 'Vanilla'])\n"
   ]
  },
  {
   "cell_type": "code",
   "execution_count": null,
   "id": "7ddc4ec8",
   "metadata": {},
   "outputs": [],
   "source": []
  }
 ],
 "metadata": {
  "kernelspec": {
   "display_name": "Python 3 (ipykernel)",
   "language": "python",
   "name": "python3"
  },
  "language_info": {
   "codemirror_mode": {
    "name": "ipython",
    "version": 3
   },
   "file_extension": ".py",
   "mimetype": "text/x-python",
   "name": "python",
   "nbconvert_exporter": "python",
   "pygments_lexer": "ipython3",
   "version": "3.10.10"
  }
 },
 "nbformat": 4,
 "nbformat_minor": 5
}
